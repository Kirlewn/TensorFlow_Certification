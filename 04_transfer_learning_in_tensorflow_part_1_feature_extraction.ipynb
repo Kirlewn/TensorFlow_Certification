{
  "nbformat": 4,
  "nbformat_minor": 0,
  "metadata": {
    "colab": {
      "provenance": [],
      "authorship_tag": "ABX9TyO5Tdj6Uao6wuo4Gg30h3o2"
    },
    "kernelspec": {
      "name": "python3",
      "display_name": "Python 3"
    },
    "language_info": {
      "name": "python"
    }
  },
  "cells": [
    {
      "cell_type": "markdown",
      "source": [
        "# Transfer Learning with TensorFlow Part 1: Feature Extraction \n",
        "\n",
        "Transfer learning is leveraging a working model's existing architecture and learned patterns for our own problems.\n",
        "\n",
        "There are two main benefits:\n",
        "1. Can leverage an existing neural network architecture proven to work on problems similar to our own \n",
        "2. Can leverage a working neural network architecture which has already learned patterns on similar data to our own, then we can adapt those patterns to our own data."
      ],
      "metadata": {
        "id": "riWt-Wsric8m"
      }
    },
    {
      "cell_type": "markdown",
      "source": [
        "## Downloading and becoming one with the data"
      ],
      "metadata": {
        "id": "kXEZsXmC33s7"
      }
    },
    {
      "cell_type": "code",
      "source": [
        "# Get data (10% of food classes from Food101)\n",
        "import zipfile\n",
        "\n",
        "# Download the data\n",
        "!wget https://storage.googleapis.com/ztm_tf_course/food_vision/10_food_classes_10_percent.zip\n",
        "\n",
        "# Unzip\n",
        "zip_ref = zipfile.ZipFile(\"10_food_classes_10_percent.zip\")\n",
        "zip_ref.extractall()\n",
        "zip_ref.close()"
      ],
      "metadata": {
        "colab": {
          "base_uri": "https://localhost:8080/"
        },
        "id": "TJSQtCMr4Joy",
        "outputId": "63e2cc0a-6c10-4377-8e7a-55d9e7b1438b"
      },
      "execution_count": null,
      "outputs": [
        {
          "output_type": "stream",
          "name": "stdout",
          "text": [
            "--2022-07-17 15:59:01--  https://storage.googleapis.com/ztm_tf_course/food_vision/10_food_classes_10_percent.zip\n",
            "Resolving storage.googleapis.com (storage.googleapis.com)... 173.194.212.128, 173.194.215.128, 173.194.216.128, ...\n",
            "Connecting to storage.googleapis.com (storage.googleapis.com)|173.194.212.128|:443... connected.\n",
            "HTTP request sent, awaiting response... 200 OK\n",
            "Length: 168546183 (161M) [application/zip]\n",
            "Saving to: ‘10_food_classes_10_percent.zip’\n",
            "\n",
            "10_food_classes_10_ 100%[===================>] 160.74M   183MB/s    in 0.9s    \n",
            "\n",
            "2022-07-17 15:59:02 (183 MB/s) - ‘10_food_classes_10_percent.zip’ saved [168546183/168546183]\n",
            "\n"
          ]
        }
      ]
    },
    {
      "cell_type": "code",
      "source": [
        "# Walk through the data\n",
        "import os \n",
        "\n",
        "for dirpath, dirnames, filenames in os.walk(\"10_food_classes_10_percent\"):\n",
        "  print(f\"There are {len(dirnames)} directories and {len(filenames)} images in {dirpath}\")"
      ],
      "metadata": {
        "colab": {
          "base_uri": "https://localhost:8080/"
        },
        "id": "i4lizG1c4mGJ",
        "outputId": "dde848cb-568d-437f-e792-c1ed2be2b6fc"
      },
      "execution_count": null,
      "outputs": [
        {
          "output_type": "stream",
          "name": "stdout",
          "text": [
            "There are 2 directories and 0 images in 10_food_classes_10_percent\n",
            "There are 10 directories and 0 images in 10_food_classes_10_percent/test\n",
            "There are 0 directories and 250 images in 10_food_classes_10_percent/test/sushi\n",
            "There are 0 directories and 250 images in 10_food_classes_10_percent/test/pizza\n",
            "There are 0 directories and 250 images in 10_food_classes_10_percent/test/fried_rice\n",
            "There are 0 directories and 250 images in 10_food_classes_10_percent/test/ice_cream\n",
            "There are 0 directories and 250 images in 10_food_classes_10_percent/test/steak\n",
            "There are 0 directories and 250 images in 10_food_classes_10_percent/test/grilled_salmon\n",
            "There are 0 directories and 250 images in 10_food_classes_10_percent/test/chicken_curry\n",
            "There are 0 directories and 250 images in 10_food_classes_10_percent/test/ramen\n",
            "There are 0 directories and 250 images in 10_food_classes_10_percent/test/hamburger\n",
            "There are 0 directories and 250 images in 10_food_classes_10_percent/test/chicken_wings\n",
            "There are 10 directories and 0 images in 10_food_classes_10_percent/train\n",
            "There are 0 directories and 75 images in 10_food_classes_10_percent/train/sushi\n",
            "There are 0 directories and 75 images in 10_food_classes_10_percent/train/pizza\n",
            "There are 0 directories and 75 images in 10_food_classes_10_percent/train/fried_rice\n",
            "There are 0 directories and 75 images in 10_food_classes_10_percent/train/ice_cream\n",
            "There are 0 directories and 75 images in 10_food_classes_10_percent/train/steak\n",
            "There are 0 directories and 75 images in 10_food_classes_10_percent/train/grilled_salmon\n",
            "There are 0 directories and 75 images in 10_food_classes_10_percent/train/chicken_curry\n",
            "There are 0 directories and 75 images in 10_food_classes_10_percent/train/ramen\n",
            "There are 0 directories and 75 images in 10_food_classes_10_percent/train/hamburger\n",
            "There are 0 directories and 75 images in 10_food_classes_10_percent/train/chicken_wings\n"
          ]
        }
      ]
    },
    {
      "cell_type": "markdown",
      "source": [
        "## Create data loaders (preparing the data)\n",
        "\n",
        "We'll use the `ImageDataGenerator` class to load in our images in batches."
      ],
      "metadata": {
        "id": "yofs9EDK5WNh"
      }
    },
    {
      "cell_type": "code",
      "source": [
        "# Setup data inputs\n",
        "from tensorflow.keras.preprocessing.image import ImageDataGenerator\n",
        "\n",
        "IMAGE_SHAPE = (224, 224)\n",
        "BATCH_SIZE = 32\n",
        "EPOCHS = 5\n",
        "\n",
        "train_dir = \"10_food_classes_10_percent/train/\"\n",
        "test_dir = \"10_food_classes_10_percent/test/\"\n",
        "\n",
        "train_datagen = ImageDataGenerator(rescale = 1/255.)\n",
        "test_datagen = ImageDataGenerator(rescale = 1/255.)\n",
        "\n",
        "print(\"Training images:\")\n",
        "train_data_10_percent = train_datagen.flow_from_directory(train_dir, \n",
        "                                                          target_size = IMAGE_SHAPE,\n",
        "                                                          batch_size = BATCH_SIZE,\n",
        "                                                          class_mode = \"categorical\")\n",
        "\n",
        "print(\"Testing Images:\")\n",
        "test_data = test_datagen.flow_from_directory(test_dir, \n",
        "                                             target_size = IMAGE_SHAPE,\n",
        "                                             batch_size = BATCH_SIZE,\n",
        "                                             class_mode = 'categorical')\n"
      ],
      "metadata": {
        "colab": {
          "base_uri": "https://localhost:8080/"
        },
        "id": "XQjPGMDd5tKz",
        "outputId": "68d24e5d-1c9f-427d-a6c5-7c6563189275"
      },
      "execution_count": null,
      "outputs": [
        {
          "output_type": "stream",
          "name": "stdout",
          "text": [
            "Training images:\n",
            "Found 750 images belonging to 10 classes.\n",
            "Testing Images:\n",
            "Found 2500 images belonging to 10 classes.\n"
          ]
        }
      ]
    },
    {
      "cell_type": "markdown",
      "source": [
        "## Setting up callbacks (things to run whilst our model trains)\n",
        "\n",
        "Callbacks are extra functionality you can add to your models to be performed during or after training. Some of the most popular callbacks are:\n",
        "\n",
        "* Tracking experiments with the **TensorBoard** callback\n",
        "* Model checkpoint with the **ModelCheckpoint** callback\n",
        "* Stopping a model from training (before it overfits) with the **EarlyStopping** callback\n"
      ],
      "metadata": {
        "id": "GmmTlph_7OXy"
      }
    },
    {
      "cell_type": "code",
      "source": [
        "# Create a Tensorboard callback \n",
        "import datetime\n",
        "\n",
        "def create_tensorboard_callback(dir_name, experiment_name):\n",
        "  log_dir = dir_name + \"/\" + experiment_name + \"/\" + datetime.datetime.now().strftime(\"%Y%m%d-%H$M$S\")\n",
        "  tensorboard_callback = tf.keras.callbacks.TensorBoard(log_dir = log_dir)\n",
        "  print(f\"Saving TensorBoard log files to : {log_dir}\")\n",
        "  return tensorboard_callback"
      ],
      "metadata": {
        "id": "MsM5rFR-73Dz"
      },
      "execution_count": null,
      "outputs": []
    },
    {
      "cell_type": "markdown",
      "source": [
        "## Creating models using TensorFlow hub\n",
        "\n",
        "In the past we've used TensorFlow to create our own models layer by layer from scratch. \n",
        "\n",
        "Now we're going to do a similar process, except the majority of our model's layers are going to come from TensorFlow hub\n",
        "\n",
        "We can access pretrained models on : https://tfhub.dev/\n",
        "\n",
        "Browsing the TensorFlow Hub page and sorting for image classification, we found the following feature vector model link: https://tfhub.dev/tensorflow/efficientnet/b0/feature-vector/1"
      ],
      "metadata": {
        "id": "J69QILt39I7j"
      }
    },
    {
      "cell_type": "code",
      "source": [
        " # Let's compare the following two models \n",
        " resnet_url = \"https://tfhub.dev/google/imagenet/resnet_v2_50/feature_vector/4\"\n",
        " efficientnet_url = 'https://tfhub.dev/tensorflow/efficientnet/b0/feature-vector/1'"
      ],
      "metadata": {
        "id": "L1fiTqIs_GM8"
      },
      "execution_count": null,
      "outputs": []
    },
    {
      "cell_type": "code",
      "source": [
        "# import dependencies\n",
        "import tensorflow as tf\n",
        "import tensorflow_hub as hub\n",
        "from tensorflow.keras import layers"
      ],
      "metadata": {
        "id": "fhrx4MkfENqj"
      },
      "execution_count": null,
      "outputs": []
    },
    {
      "cell_type": "code",
      "source": [
        "def create_model(model_url, num_classes):\n",
        "  \"\"\"\n",
        "  Takes a TensorFlow Hub URL and creates a  Keras Sequential Model with it.\n",
        "  \n",
        "  Args:\n",
        "    model_url (str) : A tensorflow huub feature extraction url\n",
        "    num_classess (int): Number of output neurons in the output layer, \n",
        "      should be equal to number of target classes, defualt = 10\n",
        "\n",
        "    returns:\n",
        "      An uncompiled Keras Sequential model with model_url as feature extractor\n",
        "      layer and Dense output layer with num_classes output neurons.\n",
        "  \"\"\"\n",
        "  # Download the pretrained model and save it as a keras model \n",
        "  feature_extractor_layer = hub.KerasLayer(model_url,\n",
        "                                           trainable = False, # freeze the already learned patterns\n",
        "                                           name = \"Feature_extraction_layer\",\n",
        "                                           input_shape = (IMAGE_SHAPE+(3,)))\n",
        "  \n",
        "  # create our own model\n",
        "  model = tf.keras.Sequential([\n",
        "                               feature_extractor_layer,\n",
        "                               layers.Dense(num_classes, activation=\"softmax\", name =\"output_layer\")\n",
        "  ])\n",
        "\n",
        "  return model"
      ],
      "metadata": {
        "id": "fsUQ8et1EiVL"
      },
      "execution_count": null,
      "outputs": []
    },
    {
      "cell_type": "markdown",
      "source": [
        "### Create and testing ResNet TensorFlow Hub Feature Extraction model"
      ],
      "metadata": {
        "id": "A_SiiiwVGLv5"
      }
    },
    {
      "cell_type": "code",
      "source": [
        "# Create Resnet model \n",
        "resnet_model = create_model(resnet_url, \n",
        "                            num_classes = train_data_10_percent.num_classes)"
      ],
      "metadata": {
        "id": "lwvhN6YPF9d1"
      },
      "execution_count": null,
      "outputs": []
    },
    {
      "cell_type": "code",
      "source": [
        "resnet_model.summary()"
      ],
      "metadata": {
        "colab": {
          "base_uri": "https://localhost:8080/"
        },
        "id": "mHtI3g4MGa68",
        "outputId": "ce8844dc-af61-490e-b912-5ce9339b82e0"
      },
      "execution_count": null,
      "outputs": [
        {
          "output_type": "stream",
          "name": "stdout",
          "text": [
            "Model: \"sequential\"\n",
            "_________________________________________________________________\n",
            " Layer (type)                Output Shape              Param #   \n",
            "=================================================================\n",
            " Feature_extraction_layer (K  (None, 2048)             23564800  \n",
            " erasLayer)                                                      \n",
            "                                                                 \n",
            " output_layer (Dense)        (None, 10)                20490     \n",
            "                                                                 \n",
            "=================================================================\n",
            "Total params: 23,585,290\n",
            "Trainable params: 20,490\n",
            "Non-trainable params: 23,564,800\n",
            "_________________________________________________________________\n"
          ]
        }
      ]
    },
    {
      "cell_type": "code",
      "source": [
        "resnet_model.compile(loss = 'categorical_crossentropy',\n",
        "                     optimizer = tf.keras.optimizers.Adam(),\n",
        "                     metrics = ['accuracy'])"
      ],
      "metadata": {
        "id": "2LdARqUVHXTs"
      },
      "execution_count": null,
      "outputs": []
    },
    {
      "cell_type": "code",
      "source": [
        "resnet_history = resnet_model.fit(train_data_10_percent,\n",
        "                 epochs = EPOCHS,\n",
        "                 steps_per_epoch = len(train_data_10_percent),\n",
        "                 validation_data = test_data,\n",
        "                 validation_steps = len(test_data),\n",
        "                 callbacks = [create_tensorboard_callback(dir_name = 'tensorflow_hub',\n",
        "                                                          experiment_name =\"resnet_50_v2_model_1\")] )"
      ],
      "metadata": {
        "colab": {
          "base_uri": "https://localhost:8080/"
        },
        "id": "Hs4sayFvHrMM",
        "outputId": "ee8d7e46-26b6-46b0-85e2-fefa9f6f1895"
      },
      "execution_count": null,
      "outputs": [
        {
          "output_type": "stream",
          "name": "stdout",
          "text": [
            "Saving TensorBoard log files to : tensorflow_hub/resnet_50_v2_model_1/20220717-17$M$S\n",
            "Epoch 1/5\n",
            "24/24 [==============================] - 440s 19s/step - loss: 1.7639 - accuracy: 0.4067 - val_loss: 1.1167 - val_accuracy: 0.6588\n",
            "Epoch 2/5\n",
            "24/24 [==============================] - 434s 19s/step - loss: 0.8669 - accuracy: 0.7480 - val_loss: 0.8589 - val_accuracy: 0.7276\n",
            "Epoch 3/5\n",
            "24/24 [==============================] - 432s 19s/step - loss: 0.6070 - accuracy: 0.8307 - val_loss: 0.7530 - val_accuracy: 0.7544\n",
            "Epoch 4/5\n",
            "24/24 [==============================] - 429s 18s/step - loss: 0.4709 - accuracy: 0.8680 - val_loss: 0.6884 - val_accuracy: 0.7768\n",
            "Epoch 5/5\n",
            "24/24 [==============================] - 482s 21s/step - loss: 0.3652 - accuracy: 0.9160 - val_loss: 0.6910 - val_accuracy: 0.7748\n"
          ]
        }
      ]
    },
    {
      "cell_type": "code",
      "source": [
        "# Let's create a functionto plot our loss curve\n",
        "# Tip: You could put a function like this into a script called helper.py and import it \n",
        "\n",
        "import matplotlib.pyplot as plt\n",
        "\n",
        "# Plot validation and training curves\n",
        "def plot_loss_curves(history):\n",
        "  \"\"\" \n",
        "  Returns seperate loss curves for training and validation metrics\n",
        "\n",
        "  Args:\n",
        "    history: TensorFlow history object\n",
        "  \n",
        "  Returns:\n",
        "    Plots of training/validation loss and accuracy metrics\n",
        "  \"\"\"\n",
        "\n",
        "  loss = history.history['loss']\n",
        "  val_loss = history.history['val_loss']\n",
        "  \n",
        "  accuracy = history.history['accuracy']\n",
        "  val_accuracy = history.history['val_accuracy']\n",
        "\n",
        "  epochs = range(len(history.history[\"loss\"]))\n",
        "\n",
        "  # Plot loss\n",
        "  plt.plot(epochs, loss, label = 'training_loss')\n",
        "  plt.plot(epochs, val_loss, label ='val_loss')\n",
        "  plt.title(\"Loss\")\n",
        "  plt.xlabel(\"Epochs\")\n",
        "  plt.legend()\n",
        "\n",
        "  # Plot accuracy \n",
        "  plt.figure()\n",
        "  plt.plot(epochs, accuracy, label =\"Training_accuracy\")\n",
        "  plt.plot(epochs, val_accuracy, label = \"Validation_accuruacy\")\n",
        "  plt.title(\"Accuracy\")\n",
        "  plt.xlabel(\"Epochs\")\n",
        "  plt.legend()\n",
        "\n"
      ],
      "metadata": {
        "id": "uqqMZhSNITxd"
      },
      "execution_count": null,
      "outputs": []
    },
    {
      "cell_type": "code",
      "source": [
        "plot_loss_curves(resnet_history)"
      ],
      "metadata": {
        "colab": {
          "base_uri": "https://localhost:8080/",
          "height": 573
        },
        "id": "2FG6GwLMTZK-",
        "outputId": "9929bcd2-14bb-4ad9-c6d8-2f6584403009"
      },
      "execution_count": null,
      "outputs": [
        {
          "output_type": "display_data",
          "data": {
            "text/plain": [
              "<Figure size 432x288 with 1 Axes>"
            ],
            "image/png": "[encoded data removed]"
          },
          "metadata": {
            "needs_background": "light"
          }
        },
        {
          "output_type": "display_data",
          "data": {
            "text/plain": [
              "<Figure size 432x288 with 1 Axes>"
            ],
            "image/png": "[encoded data removed]"
          },
          "metadata": {
            "needs_background": "light"
          }
        }
      ]
    },
    {
      "cell_type": "markdown",
      "source": [
        "### Creating and testing EfficientNetB0 TensorFlow Hub Feature Extraction model"
      ],
      "metadata": {
        "id": "JkQ7LZGHThAW"
      }
    },
    {
      "cell_type": "code",
      "source": [
        "# Create EfficientNetB0 feature extractor model \n",
        "efficientnet_model = create_model(model_url = efficientnet_url,\n",
        "                                  num_classes =train_data_10_percent.num_classes)\n",
        "\n",
        "# Compile the model \n",
        "efficientnet_model.compile(loss = 'categorical_crossentropy',\n",
        "                           optimizer = tf.keras.optimizers.Adam(),\n",
        "                           metrics = ['accuracy'])\n",
        "\n",
        "# Fit the model\n",
        "efficientnet_history = efficientnet_model.fit(train_data_10_percent, \n",
        "                                              epochs = EPOCHS,\n",
        "                                              steps_per_epoch = len(train_data_10_percent),\n",
        "                                              validation_data = test_data,\n",
        "                                              validation_steps = len(test_data),\n",
        "                                              callbacks = [create_tensorboard_callback(dir_name = 'tensorflow_hub',\n",
        "                                                                                       experiment_name = 'efficientnetb0')])"
      ],
      "metadata": {
        "colab": {
          "base_uri": "https://localhost:8080/"
        },
        "id": "xwbqLP4PUBZ1",
        "outputId": "8234f570-f56f-4adb-d52d-5cae18f9b09f"
      },
      "execution_count": null,
      "outputs": [
        {
          "output_type": "stream",
          "name": "stdout",
          "text": [
            "Saving TensorBoard log files to : tensorflow_hub/efficientnetb0/20220717-18$M$S\n",
            "Epoch 1/5\n",
            "24/24 [==============================] - 198s 8s/step - loss: 1.7807 - accuracy: 0.4707 - val_loss: 1.2582 - val_accuracy: 0.7548\n",
            "Epoch 2/5\n",
            "24/24 [==============================] - 182s 8s/step - loss: 1.0327 - accuracy: 0.7907 - val_loss: 0.8559 - val_accuracy: 0.8212\n",
            "Epoch 3/5\n",
            "24/24 [==============================] - 165s 7s/step - loss: 0.7475 - accuracy: 0.8320 - val_loss: 0.6939 - val_accuracy: 0.8472\n",
            "Epoch 4/5\n",
            "24/24 [==============================] - 181s 8s/step - loss: 0.6015 - accuracy: 0.8707 - val_loss: 0.6094 - val_accuracy: 0.8544\n",
            "Epoch 5/5\n",
            "24/24 [==============================] - 167s 7s/step - loss: 0.5099 - accuracy: 0.8827 - val_loss: 0.5590 - val_accuracy: 0.8612\n"
          ]
        }
      ]
    },
    {
      "cell_type": "code",
      "source": [
        "plot_loss_curves(efficientnet_history)"
      ],
      "metadata": {
        "colab": {
          "base_uri": "https://localhost:8080/",
          "height": 573
        },
        "id": "6uOcxiZ7Wfy3",
        "outputId": "6b80315c-5cd1-42dd-9d75-ae4c086f7545"
      },
      "execution_count": null,
      "outputs": [
        {
          "output_type": "display_data",
          "data": {
            "text/plain": [
              "<Figure size 432x288 with 1 Axes>"
            ],
            "image/png": "[encoded data removed]"
          },
          "metadata": {
            "needs_background": "light"
          }
        },
        {
          "output_type": "display_data",
          "data": {
            "text/plain": [
              "<Figure size 432x288 with 1 Axes>"
            ],
            "image/png": "[encoded data removed]"
          },
          "metadata": {
            "needs_background": "light"
          }
        }
      ]
    },
    {
      "cell_type": "code",
      "source": [
        "efficientnet_model.summary()"
      ],
      "metadata": {
        "colab": {
          "base_uri": "https://localhost:8080/"
        },
        "id": "cpjGZO9tWmYe",
        "outputId": "2961b7dd-3c3f-444e-c0ea-249033e8cc0b"
      },
      "execution_count": null,
      "outputs": [
        {
          "output_type": "stream",
          "name": "stdout",
          "text": [
            "Model: \"sequential_1\"\n",
            "_________________________________________________________________\n",
            " Layer (type)                Output Shape              Param #   \n",
            "=================================================================\n",
            " Feature_extraction_layer (K  (None, 1280)             4049564   \n",
            " erasLayer)                                                      \n",
            "                                                                 \n",
            " output_layer (Dense)        (None, 10)                12810     \n",
            "                                                                 \n",
            "=================================================================\n",
            "Total params: 4,062,374\n",
            "Trainable params: 12,810\n",
            "Non-trainable params: 4,049,564\n",
            "_________________________________________________________________\n"
          ]
        }
      ]
    },
    {
      "cell_type": "markdown",
      "source": [
        "## Different types of transfer learning\n",
        "\n",
        "* **\"As is\"** transfer learning - using an exsisting model with no changes what so ever\n",
        "\n",
        "* **\"Feature extraction\"** transfer learning - use the prelearned patterns of an existiing model and adjust the output layer for your own problem (resnet, efficientnet)\n",
        "\n",
        "* **\"Fine Tuning\"** transfer learning - use the prelearned patterns of an existing model and \"fine-tune\" many or all of the underlying layers (incluuding new output layers)"
      ],
      "metadata": {
        "id": "jfxUJcpGbg0X"
      }
    },
    {
      "cell_type": "markdown",
      "source": [
        "## Comparing our models results using TensorBoard\n",
        "\n",
        "**Note** When you upload things to TensorBoard.dev, your experiments are public. So if you're running private experiments (things you don't want other to see) do not upload them to TensorBoard"
      ],
      "metadata": {
        "id": "ztJ1FitocFJl"
      }
    },
    {
      "cell_type": "code",
      "source": [
        "# Upload TensorBoard dev records\n",
        "!tensorboard dev upload --logdir ./tensorflow_hub/  \\\n",
        "    --name \"EfficientNetB0 vs ResNet50V2\" \\\n",
        "    --description \"Comparing tow different TF Hub feture extraction model architecture using 10% of the training data\" \\\n",
        "    --one_shot  "
      ],
      "metadata": {
        "colab": {
          "base_uri": "https://localhost:8080/"
        },
        "id": "hmYVmUP7dxTf",
        "outputId": "247a26e0-7438-4a7e-b054-5684f3a19efa"
      },
      "execution_count": null,
      "outputs": [
        {
          "output_type": "stream",
          "name": "stdout",
          "text": [
            "2022-07-17 18:46:55.843211: E tensorflow/stream_executor/cuda/cuda_driver.cc:271] failed call to cuInit: CUDA_ERROR_NO_DEVICE: no CUDA-capable device is detected\n",
            "\n",
            "***** TensorBoard Uploader *****\n",
            "\n",
            "This will upload your TensorBoard logs to https://tensorboard.dev/ from\n",
            "the following directory:\n",
            "\n",
            "./tensorflow_hub/\n",
            "\n",
            "This TensorBoard will be visible to everyone. Do not upload sensitive\n",
            "data.\n",
            "\n",
            "Your use of this service is subject to Google's Terms of Service\n",
            "<https://policies.google.com/terms> and Privacy Policy\n",
            "<https://policies.google.com/privacy>, and TensorBoard.dev's Terms of Service\n",
            "<https://tensorboard.dev/policy/terms/>.\n",
            "\n",
            "This notice will not be shown again while you are logged into the uploader.\n",
            "To log out, run `tensorboard dev auth revoke`.\n",
            "\n",
            "Continue? (yes/NO) yes\n",
            "\n",
            "Please visit this URL to authorize this application: https://accounts.google.com/o/oauth2/auth?response_type=code&client_id=373649185512-8v619h5kft38l4456nm2dj4ubeqsrvh6.apps.googleusercontent.com&redirect_uri=urn%3Aietf%3Awg%3Aoauth%3A2.0%3Aoob&scope=openid+https%3A%2F%2Fwww.googleapis.com%2Fauth%2Fuserinfo.email&state=Fqo8TqtF5xDguJE3Juk2DDqEjEOH5s&prompt=consent&access_type=offline\n",
            "Enter the authorization code: 4/1AdQt8qj8VUROSR79mu8CBjGy-ovx9fDq0yVn-VlNVNjZ5KzB2IpwnMb5gy0\n",
            "\n",
            "\n",
            "New experiment created. View your TensorBoard at: https://tensorboard.dev/experiment/muDynAD9QGm4D8PWXzxCQA/\n",
            "\n",
            "\u001b[1m[2022-07-17T18:47:18]\u001b[0m Started scanning logdir.\n",
            "\u001b[1m[2022-07-17T18:47:20]\u001b[0m Total uploaded: 60 scalars, 0 tensors, 2 binary objects (5.6 MB)\n",
            "\u001b[1m[2022-07-17T18:47:20]\u001b[0m Done scanning logdir.\n",
            "\n",
            "\n",
            "Done. View your TensorBoard at https://tensorboard.dev/experiment/muDynAD9QGm4D8PWXzxCQA/\n"
          ]
        }
      ]
    },
    {
      "cell_type": "code",
      "source": [
        "# Delete an experiment\n",
        "#!tensorboard dev delete --experiment_id muDynAD9QGm4D8PWXzxCQA"
      ],
      "metadata": {
        "id": "CD4HNjMZee-w"
      },
      "execution_count": null,
      "outputs": []
    }
  ]
}